{
 "cells": [
  {
   "cell_type": "code",
   "execution_count": 1,
   "metadata": {},
   "outputs": [
    {
     "name": "stderr",
     "output_type": "stream",
     "text": [
      "[nltk_data] Downloading package stopwords to\n",
      "[nltk_data]     /Users/dabereabasse/nltk_data...\n",
      "[nltk_data]   Package stopwords is already up-to-date!\n",
      "[nltk_data] Downloading package wordnet to\n",
      "[nltk_data]     /Users/dabereabasse/nltk_data...\n",
      "[nltk_data]   Package wordnet is already up-to-date!\n",
      "[nltk_data] Downloading package stopwords to\n",
      "[nltk_data]     /Users/dabereabasse/nltk_data...\n",
      "[nltk_data]   Package stopwords is already up-to-date!\n",
      "[nltk_data] Downloading package wordnet to\n",
      "[nltk_data]     /Users/dabereabasse/nltk_data...\n",
      "[nltk_data]   Package wordnet is already up-to-date!\n"
     ]
    }
   ],
   "source": [
    "import tensorflow as tf\n",
    "from tensorflow import keras\n",
    "from tensorflow.keras.models import Sequential\n",
    "from tensorflow.keras.layers import Embedding, LSTM, Bidirectional, SimpleRNN, GRU, Dense, Dropout\n",
    "from tensorflow.keras.preprocessing.text import Tokenizer\n",
    "from tensorflow.keras.preprocessing.sequence import pad_sequences\n",
    "from tensorflow.keras.callbacks import EarlyStopping\n",
    "\n",
    "# Pour le prétraitement des textes\n",
    "import re\n",
    "import string\n",
    "import nltk\n",
    "nltk.download('stopwords')\n",
    "from nltk.corpus import  stopwords\n",
    "from nltk.stem.porter import PorterStemmer\n",
    "nltk.download('wordnet')\n",
    "from nltk.stem import WordNetLemmatizer\n",
    "from nltk.tokenize import word_tokenize\n",
    "\n",
    "from datasets import load_dataset\n",
    "\n",
    "from transformers import BertTokenizer, TFBertModel, pipeline, AutoTokenizer, AutoModelForSequenceClassification\n",
    "from gensim.models import KeyedVectors\n",
    "\n",
    "# Pour la séparation des données en ensembles d'entraînement et de test\n",
    "from sklearn.model_selection import train_test_split\n",
    "from sklearn.preprocessing import StandardScaler\n",
    "from sklearn.metrics import confusion_matrix, classification_report, accuracy_score, f1_score, precision_score, recall_score\n",
    "from keras.models import load_model\n",
    "\n",
    "from sklearn.decomposition import PCA\n",
    "\n",
    "import numpy as np\n",
    "import pandas as pd\n",
    "import matplotlib.pyplot as plt\n",
    "import seaborn as sns\n",
    "\n",
    "import h5py\n",
    "import os\n",
    "import helpers"
   ]
  },
  {
   "cell_type": "markdown",
   "metadata": {},
   "source": [
    "## Data collection"
   ]
  },
  {
   "cell_type": "code",
   "execution_count": 2,
   "metadata": {},
   "outputs": [
    {
     "name": "stdout",
     "output_type": "stream",
     "text": [
      "train_data shape: (7613, 4)\n"
     ]
    },
    {
     "data": {
      "text/html": [
       "<div>\n",
       "<style scoped>\n",
       "    .dataframe tbody tr th:only-of-type {\n",
       "        vertical-align: middle;\n",
       "    }\n",
       "\n",
       "    .dataframe tbody tr th {\n",
       "        vertical-align: top;\n",
       "    }\n",
       "\n",
       "    .dataframe thead th {\n",
       "        text-align: right;\n",
       "    }\n",
       "</style>\n",
       "<table border=\"1\" class=\"dataframe\">\n",
       "  <thead>\n",
       "    <tr style=\"text-align: right;\">\n",
       "      <th></th>\n",
       "      <th>keyword</th>\n",
       "      <th>location</th>\n",
       "      <th>text</th>\n",
       "      <th>target</th>\n",
       "    </tr>\n",
       "    <tr>\n",
       "      <th>id</th>\n",
       "      <th></th>\n",
       "      <th></th>\n",
       "      <th></th>\n",
       "      <th></th>\n",
       "    </tr>\n",
       "  </thead>\n",
       "  <tbody>\n",
       "    <tr>\n",
       "      <th>1</th>\n",
       "      <td>NaN</td>\n",
       "      <td>NaN</td>\n",
       "      <td>Our Deeds are the Reason of this #earthquake M...</td>\n",
       "      <td>1</td>\n",
       "    </tr>\n",
       "    <tr>\n",
       "      <th>4</th>\n",
       "      <td>NaN</td>\n",
       "      <td>NaN</td>\n",
       "      <td>Forest fire near La Ronge Sask. Canada</td>\n",
       "      <td>1</td>\n",
       "    </tr>\n",
       "    <tr>\n",
       "      <th>5</th>\n",
       "      <td>NaN</td>\n",
       "      <td>NaN</td>\n",
       "      <td>All residents asked to 'shelter in place' are ...</td>\n",
       "      <td>1</td>\n",
       "    </tr>\n",
       "    <tr>\n",
       "      <th>6</th>\n",
       "      <td>NaN</td>\n",
       "      <td>NaN</td>\n",
       "      <td>13,000 people receive #wildfires evacuation or...</td>\n",
       "      <td>1</td>\n",
       "    </tr>\n",
       "    <tr>\n",
       "      <th>7</th>\n",
       "      <td>NaN</td>\n",
       "      <td>NaN</td>\n",
       "      <td>Just got sent this photo from Ruby #Alaska as ...</td>\n",
       "      <td>1</td>\n",
       "    </tr>\n",
       "  </tbody>\n",
       "</table>\n",
       "</div>"
      ],
      "text/plain": [
       "   keyword location                                               text  target\n",
       "id                                                                            \n",
       "1      NaN      NaN  Our Deeds are the Reason of this #earthquake M...       1\n",
       "4      NaN      NaN             Forest fire near La Ronge Sask. Canada       1\n",
       "5      NaN      NaN  All residents asked to 'shelter in place' are ...       1\n",
       "6      NaN      NaN  13,000 people receive #wildfires evacuation or...       1\n",
       "7      NaN      NaN  Just got sent this photo from Ruby #Alaska as ...       1"
      ]
     },
     "execution_count": 2,
     "metadata": {},
     "output_type": "execute_result"
    }
   ],
   "source": [
    "train_data = pd.read_csv('../data/train.csv',index_col='id')\n",
    "print('train_data shape:', train_data.shape)\n",
    "train_data.head(5)"
   ]
  },
  {
   "cell_type": "code",
   "execution_count": 3,
   "metadata": {},
   "outputs": [
    {
     "name": "stdout",
     "output_type": "stream",
     "text": [
      "data keywoards: [nan 'ablaze' 'accident' 'aftershock' 'airplane%20accident' 'ambulance'\n",
      " 'annihilated' 'annihilation' 'apocalypse' 'armageddon' 'army' 'arson'\n",
      " 'arsonist' 'attack' 'attacked' 'avalanche' 'battle' 'bioterror'\n",
      " 'bioterrorism' 'blaze']\n",
      "\n",
      "data location: [nan 'Birmingham' 'Est. September 2012 - Bristol' 'AFRICA'\n",
      " 'Philadelphia, PA' 'London, UK' 'Pretoria' 'World Wide!!'\n",
      " 'Paranaque City' 'Live On Webcam' 'milky way' 'GREENSBORO,NORTH CAROLINA'\n",
      " 'England.' 'Sheffield Township, Ohio' 'India' 'Barbados' 'Anaheim'\n",
      " 'Abuja' 'USA' 'South Africa']\n"
     ]
    }
   ],
   "source": [
    "print('data keywoards:', train_data.keyword.unique()[:20])\n",
    "print('\\ndata location:', train_data.location.unique()[:20])"
   ]
  },
  {
   "cell_type": "code",
   "execution_count": 4,
   "metadata": {},
   "outputs": [],
   "source": [
    "# handle missing values\n",
    "train_data['keyword'] = train_data['keyword'].fillna('')\n",
    "train_data['location'] = train_data['location'].fillna('')\n",
    "\n",
    "# concatenate keyword, location and text columns\n",
    "sentences = train_data['keyword'] + ' ' + train_data['location'] + ' ' + train_data['text']"
   ]
  },
  {
   "cell_type": "code",
   "execution_count": 5,
   "metadata": {},
   "outputs": [
    {
     "name": "stdout",
     "output_type": "stream",
     "text": [
      "X_train shape: (6090,)\n",
      "X_test shape: (1523,)\n"
     ]
    }
   ],
   "source": [
    "# preprocess sentences\n",
    "sentences = sentences.apply(helpers.preprocess_text)\n",
    "\n",
    "# train test split\n",
    "X_train, X_test, y_train, y_test = train_test_split(sentences, train_data['target'], test_size=0.2, random_state=42)\n",
    "\n",
    "print('X_train shape:', X_train.shape)\n",
    "print('X_test shape:', X_test.shape)"
   ]
  },
  {
   "cell_type": "markdown",
   "metadata": {},
   "source": [
    "### Embeddings for sentences"
   ]
  },
  {
   "cell_type": "code",
   "execution_count": 6,
   "metadata": {},
   "outputs": [
    {
     "name": "stderr",
     "output_type": "stream",
     "text": [
      "/Users/dabereabasse/anaconda3/envs/Py311/lib/python3.11/site-packages/huggingface_hub/repocard.py:105: UserWarning: Repo card metadata block was not found. Setting CardData to empty.\n",
      "  warnings.warn(\"Repo card metadata block was not found. Setting CardData to empty.\")\n"
     ]
    },
    {
     "name": "stdout",
     "output_type": "stream",
     "text": [
      "Found 400000 word vectors.\n"
     ]
    }
   ],
   "source": [
    "# GloVe embeddings\n",
    "dataset = load_dataset(\"SLU-CSCI4750/glove.6B.100d.txt\")\n",
    "\n",
    "# load the embeddings into a dictionary\n",
    "embeddings_index = {}\n",
    "for i in range(len(dataset['train'])):\n",
    "    text = dataset['train'][i]['text'].split()\n",
    "    word = text[0]\n",
    "    coefs = np.asarray(text[1:], dtype='float32')\n",
    "    embeddings_index[word] = coefs\n",
    "\n",
    "print('Found %s word vectors.' % len(embeddings_index))\n",
    "    "
   ]
  },
  {
   "cell_type": "code",
   "execution_count": 7,
   "metadata": {},
   "outputs": [],
   "source": [
    "# Tokenize the sentences\n",
    "tokenizer = Tokenizer()\n",
    "tokenizer.fit_on_texts(X_train)\n",
    "\n",
    "# Convert the sentences to sequences\n",
    "sequences_train = tokenizer.texts_to_sequences(X_train)\n",
    "sequences_test = tokenizer.texts_to_sequences(X_test)\n",
    "\n",
    "# paddeed sequences\n",
    "max_len = max([len(x) for x in sequences_train])\n",
    "sequences_train = pad_sequences(sequences_train, maxlen=max_len, padding='post')\n",
    "sequences_test = pad_sequences(sequences_test, maxlen=max_len, padding='post')\n",
    "\n",
    "# Create an embedding matrix\n",
    "word_index = tokenizer.word_index\n",
    "num_words = len(word_index) + 1\n",
    "embedding_matrix = np.zeros((num_words, 100))\n",
    "\n",
    "for word, i in word_index.items():\n",
    "    if i > num_words:\n",
    "        continue\n",
    "    embedding_vector = embeddings_index.get(word)\n",
    "    if embedding_vector is not None:\n",
    "        embedding_matrix[i] = embedding_vector"
   ]
  },
  {
   "cell_type": "markdown",
   "metadata": {},
   "source": [
    "### Helper function to make submission"
   ]
  },
  {
   "cell_type": "code",
   "execution_count": 8,
   "metadata": {},
   "outputs": [],
   "source": [
    "def make_submission(model, tokenizer, max_len, filepath='submission.csv'):\n",
    "    test_data = pd.read_csv('../data/test.csv',index_col='id')\n",
    "    # handle missing values\n",
    "    test_data['keyword'] = test_data['keyword'].fillna('')\n",
    "    test_data['location'] = test_data['location'].fillna('')\n",
    "    # concatenate keyword, location and text columns\n",
    "    test_sentences = test_data['keyword'] + ' ' + test_data['location'] + ' ' + test_data['text']\n",
    "    # preprocess sentences\n",
    "    test_sentences = test_sentences.apply(helpers.preprocess_text)\n",
    "    # Convert the sentences to sequences\n",
    "    test_sequences = tokenizer.texts_to_sequences(test_sentences)\n",
    "    # paddeed sequences\n",
    "    test_sequences = pad_sequences(test_sequences, maxlen=max_len, padding='post')\n",
    "    # make predictions\n",
    "    y_test_pred = model.predict(test_sequences)\n",
    "    y_test_pred = (y_test_pred > 0.5).astype(int)\n",
    "    # create submission dataframe\n",
    "    submission = pd.DataFrame({'id': test_data.index, 'target': y_test_pred.flatten()})\n",
    "    # save the submission\n",
    "    submission.to_csv(filepath, index=False)\n",
    "    print('Submission saved to', filepath)"
   ]
  },
  {
   "cell_type": "markdown",
   "metadata": {},
   "source": [
    "### Model2_1"
   ]
  },
  {
   "cell_type": "code",
   "execution_count": 9,
   "metadata": {},
   "outputs": [
    {
     "name": "stdout",
     "output_type": "stream",
     "text": [
      "Model: \"sequential\"\n",
      "_________________________________________________________________\n",
      " Layer (type)                Output Shape              Param #   \n",
      "=================================================================\n",
      " embedding (Embedding)       (None, 27, 100)           1531700   \n",
      "                                                                 \n",
      " bidirectional (Bidirection  (None, 128)               84480     \n",
      " al)                                                             \n",
      "                                                                 \n",
      " dense (Dense)               (None, 32)                4128      \n",
      "                                                                 \n",
      " dropout (Dropout)           (None, 32)                0         \n",
      "                                                                 \n",
      " dense_1 (Dense)             (None, 1)                 33        \n",
      "                                                                 \n",
      "=================================================================\n",
      "Total params: 1620341 (6.18 MB)\n",
      "Trainable params: 88641 (346.25 KB)\n",
      "Non-trainable params: 1531700 (5.84 MB)\n",
      "_________________________________________________________________\n"
     ]
    }
   ],
   "source": [
    "# define a random seed\n",
    "seed = 42\n",
    "np.random.seed(seed)\n",
    "tf.random.set_seed(seed)\n",
    "\n",
    "# Create a bidirectional LSTM model\n",
    "model = Sequential([\n",
    "    Embedding(num_words, 100, embeddings_initializer=keras.initializers.Constant(embedding_matrix), input_length=max_len, trainable=False),\n",
    "    Bidirectional(LSTM(64, dropout=0.5, recurrent_dropout=0.5)),\n",
    "    Dense(32, activation='relu', kernel_regularizer=keras.regularizers.l1_l2(l1=1e-5, l2=1e-4)),\n",
    "    Dropout(0.5),\n",
    "    Dense(1, activation='sigmoid')\n",
    "])\n",
    "\n",
    "# Compile the model\n",
    "model.compile(optimizer='adam', loss='binary_crossentropy', metrics=['accuracy'])\n",
    "\n",
    "# summary\n",
    "model.summary()"
   ]
  },
  {
   "cell_type": "code",
   "execution_count": 10,
   "metadata": {},
   "outputs": [
    {
     "name": "stdout",
     "output_type": "stream",
     "text": [
      "Epoch 1/10\n",
      "96/96 [==============================] - 5s 32ms/step - loss: 0.5948 - accuracy: 0.6854 - val_loss: 0.4733 - val_accuracy: 0.7925\n",
      "Epoch 2/10\n",
      "96/96 [==============================] - 4s 38ms/step - loss: 0.5088 - accuracy: 0.7719 - val_loss: 0.4697 - val_accuracy: 0.7951\n",
      "Epoch 3/10\n",
      "96/96 [==============================] - 4s 38ms/step - loss: 0.4958 - accuracy: 0.7818 - val_loss: 0.4540 - val_accuracy: 0.7951\n",
      "Epoch 4/10\n",
      "96/96 [==============================] - 4s 39ms/step - loss: 0.4794 - accuracy: 0.7898 - val_loss: 0.4497 - val_accuracy: 0.8004\n",
      "Epoch 5/10\n",
      "96/96 [==============================] - 4s 38ms/step - loss: 0.4763 - accuracy: 0.7895 - val_loss: 0.4924 - val_accuracy: 0.7840\n",
      "Epoch 6/10\n",
      "96/96 [==============================] - 4s 38ms/step - loss: 0.4619 - accuracy: 0.7987 - val_loss: 0.4767 - val_accuracy: 0.7938\n",
      "Epoch 7/10\n",
      "96/96 [==============================] - 4s 37ms/step - loss: 0.4614 - accuracy: 0.7980 - val_loss: 0.4548 - val_accuracy: 0.8142\n",
      "Epoch 8/10\n",
      "96/96 [==============================] - 4s 37ms/step - loss: 0.4528 - accuracy: 0.8039 - val_loss: 0.4454 - val_accuracy: 0.8083\n",
      "Epoch 9/10\n",
      "96/96 [==============================] - 4s 38ms/step - loss: 0.4497 - accuracy: 0.8061 - val_loss: 0.4448 - val_accuracy: 0.8142\n",
      "Epoch 10/10\n",
      "96/96 [==============================] - 4s 37ms/step - loss: 0.4320 - accuracy: 0.8125 - val_loss: 0.5257 - val_accuracy: 0.8050\n"
     ]
    }
   ],
   "source": [
    "# train the model\n",
    "history = model.fit(sequences_train, y_train, epochs=10, batch_size=64, validation_data=(sequences_test, y_test))"
   ]
  },
  {
   "cell_type": "code",
   "execution_count": 11,
   "metadata": {},
   "outputs": [
    {
     "data": {
      "image/png": "[encoded data removed]",
      "text/plain": [
       "<Figure size 1500x600 with 2 Axes>"
      ]
     },
     "metadata": {},
     "output_type": "display_data"
    }
   ],
   "source": [
    "# plot the history\n",
    "helpers.plot_history(history)"
   ]
  },
  {
   "cell_type": "code",
   "execution_count": 16,
   "metadata": {},
   "outputs": [],
   "source": [
    "# save the model weights\n",
    "# model.save_weights('../models/model2_1.h5')\n",
    "\n",
    "# load the model weights\n",
    "model.load_weights('../models/model2_1.h5')"
   ]
  },
  {
   "cell_type": "code",
   "execution_count": 17,
   "metadata": {},
   "outputs": [
    {
     "name": "stdout",
     "output_type": "stream",
     "text": [
      "191/191 [==============================] - 1s 4ms/step\n",
      "48/48 [==============================] - 0s 4ms/step\n",
      "Training set:\n",
      "Accuracy: 0.8233169129720854\n",
      "F1 score: 0.7933154053015751\n",
      "Precision: 0.7991486068111455\n",
      "Recall: 0.7875667429443173\n",
      "\n",
      "\n",
      "Testing set:\n",
      "Accuracy: 0.8049901510177282\n",
      "F1 score: 0.7751703255109765\n",
      "Precision: 0.7619047619047619\n",
      "Recall: 0.7889060092449923\n"
     ]
    }
   ],
   "source": [
    "# make predictions on train and test data\n",
    "y_train_pred = model.predict(sequences_train)\n",
    "y_train_pred = (y_train_pred > 0.5).astype(int)\n",
    "\n",
    "y_test_pred = model.predict(sequences_test)\n",
    "y_test_pred = (y_test_pred > 0.5).astype(int)\n",
    "\n",
    "# print report\n",
    "helpers.print_report(y_train, y_train_pred, y_test, y_test_pred)"
   ]
  },
  {
   "cell_type": "code",
   "execution_count": 13,
   "metadata": {},
   "outputs": [],
   "source": [
    "# make submission\n",
    "# make_submission(model, tokenizer, max_len, filepath='../submissions/submission_1_model_2.csv')"
   ]
  }
 ],
 "metadata": {
  "kernelspec": {
   "display_name": "Py311",
   "language": "python",
   "name": "python3"
  },
  "language_info": {
   "codemirror_mode": {
    "name": "ipython",
    "version": 3
   },
   "file_extension": ".py",
   "mimetype": "text/x-python",
   "name": "python",
   "nbconvert_exporter": "python",
   "pygments_lexer": "ipython3",
   "version": "3.11.7"
  }
 },
 "nbformat": 4,
 "nbformat_minor": 2
}
